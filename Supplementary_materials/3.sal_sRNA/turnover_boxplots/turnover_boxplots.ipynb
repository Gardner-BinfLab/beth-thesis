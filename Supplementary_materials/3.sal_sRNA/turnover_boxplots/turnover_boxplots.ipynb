{
 "cells": [
  {
   "cell_type": "code",
   "execution_count": null,
   "metadata": {},
   "outputs": [],
   "source": [
    "import pandas as pd\n",
    "import seaborn as sns\n",
    "import matplotlib.pyplot as plt\n",
    "df2 = pd.read_csv(\"genus_perc_id.csv\",sep=\",\")\n",
    "df2.columns=['genus','PID']\n",
    "df2.head()\n",
    "df2['PID'] = pd.to_numeric(df2['PID'], errors='coerce')\n",
    "%matplotlib inline\n",
    "plt.figure(figsize=(11, 7))\n",
    "sns.set_context(\"paper\", font_scale=2)\n",
    "plot = sns.boxplot(x='genus',y='PID',data=df2,linewidth=1, order=['Salmonella','Citrobacter','Shigella','Escherichia','Enterobacter','Klebsiella','Cronobacter','Cedecea','Erwinia','Pantoea','Yersinia','Serratia','Rahnella','Pectobacterium','Dickeya','Edwardsiella','Xenorhabdus'])\n",
    "plot = sns.swarmplot(x='genus',y='PID',data=df2,color='0.1',size=2.5,order=['Salmonella','Citrobacter','Shigella','Escherichia','Enterobacter','Klebsiella','Cronobacter','Cedecea','Erwinia','Pantoea','Yersinia','Serratia','Rahnella','Pectobacterium','Dickeya','Edwardsiella','Xenorhabdus'])\n",
    "\n",
    "#plt.show()\n",
    "#plt.legend(prop={'size': 12})\n",
    "plt.xlabel('Genus')\n",
    "plt.ylabel('PID')\n",
    "plt.xticks(rotation=80)\n",
    "plt.show()\n",
    "#plt.savefig(\"start_finish.svg\",format=\"svg\")"
   ]
  },
  {
   "cell_type": "code",
   "execution_count": null,
   "metadata": {},
   "outputs": [],
   "source": [
    "df2.head()\n",
    "stddev =df2.groupby(['genus']).std()\n",
    "avg=df2.groupby(['genus']).mean()\n",
    "plt.figure(figsize=(11, 7))\n",
    "sns.set_context(\"paper\", font_scale=2)\n",
    "sns.pointplot(data=avg.reset_index(),x='genus',y='PID',label=\"mean\",order=['Salmonella','Citrobacter','Shigella','Escherichia','Enterobacter','Klebsiella','Cronobacter','Cedecea','Erwinia','Pantoea','Yersinia','Serratia','Rahnella','Pectobacterium','Dickeya','Edwardsiella','Xenorhabdus'])\n",
    "sns.pointplot(data=stddev.reset_index(),color=\"Red\",x='genus',y='PID',label=\"σ\",order=['Salmonella','Citrobacter','Shigella','Escherichia','Enterobacter','Klebsiella','Cronobacter','Cedecea','Erwinia','Pantoea','Yersinia','Serratia','Rahnella','Pectobacterium','Dickeya','Edwardsiella','Xenorhabdus'])\n",
    "plt.xlabel('Genus')\n",
    "plt.ylabel('PID')\n",
    "plt.xticks(rotation=80)\n",
    "plt.legend([\"Mean\", \"σ\"])\n",
    "plt.show()"
   ]
  }
 ],
 "metadata": {
  "kernelspec": {
   "display_name": "Python 3",
   "language": "python",
   "name": "python3"
  },
  "language_info": {
   "codemirror_mode": {
    "name": "ipython",
    "version": 3
   },
   "file_extension": ".py",
   "mimetype": "text/x-python",
   "name": "python",
   "nbconvert_exporter": "python",
   "pygments_lexer": "ipython3",
   "version": "3.7.3"
  }
 },
 "nbformat": 4,
 "nbformat_minor": 2
}
