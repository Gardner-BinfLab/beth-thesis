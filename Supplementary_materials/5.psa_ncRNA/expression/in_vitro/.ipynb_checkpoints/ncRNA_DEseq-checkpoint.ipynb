{
 "cells": [
  {
   "cell_type": "code",
   "execution_count": null,
   "metadata": {},
   "outputs": [],
   "source": [
    "library(tximport)\n",
    "library(readr)\n",
    "library(DESeq2)\n",
    "library(ggplot2)\n",
    "library(ggrepel)\n",
    "\n",
    "#read in samples in kallisto tsv format using tximport\n",
    "samples <- read.table(\n",
    "        file.path(\n",
    "            \"kallisto/countfiles/\",\n",
    "            \"samples.txt\"),\n",
    "        header = FALSE,\n",
    "        stringsAsFactors = FALSE)\n",
    "\n",
    "files <- file.path(\"kallisto\",\n",
    "                    samples$V1,\n",
    "                   \"abundance.tsv\")\n",
    "head(files)\n",
    "\n",
    "names(files) <- levels(samples$V1) \n",
    "\n",
    "##tx2gene is a file of gene names required by kallisto for naming transcripts\n",
    "tx2gene <- read.csv(\n",
    "        file.path(\n",
    "            \"kallisto/countfiles/\",\n",
    "            \"fake_tx2gene.csv\"))\n",
    "txi.kallisto.tsv <- tximport(\n",
    "            files,\n",
    "            type = \"kallisto\",\n",
    "            tx2gene=tx2gene)"
   ]
  },
  {
   "cell_type": "code",
   "execution_count": null,
   "metadata": {},
   "outputs": [],
   "source": [
    "#to test the effect of factors, make table of experimental design \n",
    "#where media and growth phase factors are combined\n",
    "sampleTable <-read.csv(\n",
    "        file.path(\n",
    "            \"kallisto/countfiles\",\n",
    "            \"sample_list_2.csv\"),\n",
    "            header = TRUE)\n",
    "rownames(sampleTable) <- colnames(txi.kallisto.tsv$counts)\n",
    "print(sampleTable)"
   ]
  },
  {
   "cell_type": "code",
   "execution_count": null,
   "metadata": {},
   "outputs": [],
   "source": [
    "#run DESeq2 using this experiment design and log normalise counts\n",
    "ddsTxi <- DESeqDataSetFromTximport(\n",
    "        txi.kallisto.tsv,\n",
    "        colData = sampleTable,\n",
    "        design= ~ media)\n",
    "#filter rows with no counts\n",
    "ddsTxi <- ddsTxi[rowSums(counts(ddsTxi)) > 1,]\n",
    "ddsTxi <- DESeq(ddsTxi)\n",
    "summary(ddsTxi)\n",
    "rld <- rlog(ddsTxi)"
   ]
  },
  {
   "cell_type": "code",
   "execution_count": null,
   "metadata": {},
   "outputs": [],
   "source": [
    "library(reshape2)\n",
    "library(limma)\n",
    "#get count data for candidate ncRNAs\n",
    "rvs <- results(\n",
    "    ddsTxi, \n",
    "    contrast = c(\"media\",\n",
    "                 \"starved\",\n",
    "                 \"rich\"))\n",
    "rvm <- results(\n",
    "    ddsTxi, \n",
    "    contrast = c(\"media\",\n",
    "                 \"minimal\",\n",
    "                 \"rich\"))\n",
    "mvs <- results(\n",
    "    ddsTxi,\n",
    "    contrast = c(\"media\",\n",
    "                 \"starved\",\n",
    "                 \"minimal\"))\n",
    "\n",
    "logfold <- cbind(rvs$log2FoldChange,\n",
    "                 rvm$log2FoldChange,\n",
    "                 mvs$log2FoldChange)\n",
    "colnames(logfold) <- c(\"rvs\",\n",
    "                       \"rvm\",\n",
    "                       \"mvs\")\n",
    "rownames(logfold) <- c(rownames(rvs))\n",
    "\n",
    "write.csv(logfold,\"logfold.csv\")\n",
    "\n",
    "head(rvs)\n",
    "basemean_out <- cbind(rvs$baseMean)\n",
    "rownames(basemean_out) <- c(rownames(rvs))\n",
    "\n",
    "write.csv(basemean_out,\"basemean.csv\")"
   ]
  }
 ],
 "metadata": {
  "kernelspec": {
   "display_name": "R",
   "language": "R",
   "name": "ir"
  },
  "language_info": {
   "codemirror_mode": "r",
   "file_extension": ".r",
   "mimetype": "text/x-r-source",
   "name": "R",
   "pygments_lexer": "r",
   "version": "3.4.4"
  }
 },
 "nbformat": 4,
 "nbformat_minor": 2
}
